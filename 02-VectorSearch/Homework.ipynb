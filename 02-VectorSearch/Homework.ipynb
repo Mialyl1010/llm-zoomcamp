{
 "cells": [
  {
   "cell_type": "code",
   "execution_count": 1,
   "id": "d9443e8f-4607-4688-a13e-9b5e9d34c3e5",
   "metadata": {},
   "outputs": [
    {
     "name": "stdout",
     "output_type": "stream",
     "text": [
      "Requirement already satisfied: fastembed in /usr/local/python/3.12.1/lib/python3.12/site-packages (0.7.1)\n",
      "Requirement already satisfied: huggingface-hub<1.0,>=0.20 in /usr/local/python/3.12.1/lib/python3.12/site-packages (from fastembed) (0.32.2)\n",
      "Requirement already satisfied: loguru<0.8.0,>=0.7.2 in /usr/local/python/3.12.1/lib/python3.12/site-packages (from fastembed) (0.7.3)\n",
      "Requirement already satisfied: mmh3<6.0.0,>=4.1.0 in /usr/local/python/3.12.1/lib/python3.12/site-packages (from fastembed) (5.1.0)\n",
      "Requirement already satisfied: numpy>=1.26 in /home/codespace/.local/lib/python3.12/site-packages (from fastembed) (2.2.4)\n",
      "Requirement already satisfied: onnxruntime!=1.20.0,>=1.17.0 in /usr/local/python/3.12.1/lib/python3.12/site-packages (from fastembed) (1.22.0)\n",
      "Requirement already satisfied: pillow<12.0.0,>=10.3.0 in /home/codespace/.local/lib/python3.12/site-packages (from fastembed) (11.1.0)\n",
      "Requirement already satisfied: py-rust-stemmers<0.2.0,>=0.1.0 in /usr/local/python/3.12.1/lib/python3.12/site-packages (from fastembed) (0.1.5)\n",
      "Requirement already satisfied: requests<3.0,>=2.31 in /home/codespace/.local/lib/python3.12/site-packages (from fastembed) (2.32.3)\n",
      "Requirement already satisfied: tokenizers<1.0,>=0.15 in /usr/local/python/3.12.1/lib/python3.12/site-packages (from fastembed) (0.21.1)\n",
      "Requirement already satisfied: tqdm<5.0,>=4.66 in /usr/local/python/3.12.1/lib/python3.12/site-packages (from fastembed) (4.67.1)\n",
      "Requirement already satisfied: filelock in /home/codespace/.local/lib/python3.12/site-packages (from huggingface-hub<1.0,>=0.20->fastembed) (3.13.1)\n",
      "Requirement already satisfied: fsspec>=2023.5.0 in /home/codespace/.local/lib/python3.12/site-packages (from huggingface-hub<1.0,>=0.20->fastembed) (2024.6.1)\n",
      "Requirement already satisfied: packaging>=20.9 in /home/codespace/.local/lib/python3.12/site-packages (from huggingface-hub<1.0,>=0.20->fastembed) (24.2)\n",
      "Requirement already satisfied: pyyaml>=5.1 in /home/codespace/.local/lib/python3.12/site-packages (from huggingface-hub<1.0,>=0.20->fastembed) (6.0.2)\n",
      "Requirement already satisfied: typing-extensions>=3.7.4.3 in /home/codespace/.local/lib/python3.12/site-packages (from huggingface-hub<1.0,>=0.20->fastembed) (4.12.2)\n",
      "Requirement already satisfied: hf-xet<2.0.0,>=1.1.2 in /usr/local/python/3.12.1/lib/python3.12/site-packages (from huggingface-hub<1.0,>=0.20->fastembed) (1.1.2)\n",
      "Requirement already satisfied: coloredlogs in /usr/local/python/3.12.1/lib/python3.12/site-packages (from onnxruntime!=1.20.0,>=1.17.0->fastembed) (15.0.1)\n",
      "Requirement already satisfied: flatbuffers in /usr/local/python/3.12.1/lib/python3.12/site-packages (from onnxruntime!=1.20.0,>=1.17.0->fastembed) (25.2.10)\n",
      "Requirement already satisfied: protobuf in /usr/local/python/3.12.1/lib/python3.12/site-packages (from onnxruntime!=1.20.0,>=1.17.0->fastembed) (6.31.1)\n",
      "Requirement already satisfied: sympy in /home/codespace/.local/lib/python3.12/site-packages (from onnxruntime!=1.20.0,>=1.17.0->fastembed) (1.13.1)\n",
      "Requirement already satisfied: charset-normalizer<4,>=2 in /home/codespace/.local/lib/python3.12/site-packages (from requests<3.0,>=2.31->fastembed) (3.4.1)\n",
      "Requirement already satisfied: idna<4,>=2.5 in /home/codespace/.local/lib/python3.12/site-packages (from requests<3.0,>=2.31->fastembed) (3.10)\n",
      "Requirement already satisfied: urllib3<3,>=1.21.1 in /home/codespace/.local/lib/python3.12/site-packages (from requests<3.0,>=2.31->fastembed) (2.3.0)\n",
      "Requirement already satisfied: certifi>=2017.4.17 in /home/codespace/.local/lib/python3.12/site-packages (from requests<3.0,>=2.31->fastembed) (2025.1.31)\n",
      "Requirement already satisfied: humanfriendly>=9.1 in /usr/local/python/3.12.1/lib/python3.12/site-packages (from coloredlogs->onnxruntime!=1.20.0,>=1.17.0->fastembed) (10.0)\n",
      "Requirement already satisfied: mpmath<1.4,>=1.1.0 in /home/codespace/.local/lib/python3.12/site-packages (from sympy->onnxruntime!=1.20.0,>=1.17.0->fastembed) (1.3.0)\n",
      "\n",
      "\u001b[1m[\u001b[0m\u001b[34;49mnotice\u001b[0m\u001b[1;39;49m]\u001b[0m\u001b[39;49m A new release of pip is available: \u001b[0m\u001b[31;49m25.0.1\u001b[0m\u001b[39;49m -> \u001b[0m\u001b[32;49m25.1.1\u001b[0m\n",
      "\u001b[1m[\u001b[0m\u001b[34;49mnotice\u001b[0m\u001b[1;39;49m]\u001b[0m\u001b[39;49m To update, run: \u001b[0m\u001b[32;49mpython3 -m pip install --upgrade pip\u001b[0m\n",
      "Note: you may need to restart the kernel to use updated packages.\n"
     ]
    }
   ],
   "source": [
    "pip install fastembed"
   ]
  },
  {
   "cell_type": "code",
   "execution_count": 2,
   "id": "ed441ccd-3612-4a4b-8e58-70b52bbb5f07",
   "metadata": {},
   "outputs": [],
   "source": [
    "from fastembed import TextEmbedding"
   ]
  },
  {
   "cell_type": "code",
   "execution_count": 4,
   "id": "d2091cfe-ef69-42fd-a2dc-29c98c70580d",
   "metadata": {},
   "outputs": [],
   "source": [
    "embed_model = TextEmbedding(model_name=\"jinaai/jina-embeddings-v2-small-en\")"
   ]
  },
  {
   "cell_type": "code",
   "execution_count": 5,
   "id": "63452f26-8a98-41f4-9fee-f69c5b15fe74",
   "metadata": {},
   "outputs": [],
   "source": [
    "query_text = \"I just discovered the course. Can I join now?\"\n",
    "query_embedding = next(embed_model.embed([query_text]))"
   ]
  },
  {
   "cell_type": "code",
   "execution_count": 8,
   "id": "e335a2a0-67f5-47ee-a72b-d3c2bca860e9",
   "metadata": {},
   "outputs": [
    {
     "name": "stdout",
     "output_type": "stream",
     "text": [
      "Minimum value in the embedding: -0.11726373885183883\n"
     ]
    }
   ],
   "source": [
    "import numpy as np\n",
    "\n",
    "query_embedding = np.array(query_embedding)\n",
    "min_value = np.min(query_embedding)\n",
    "\n",
    "print(f\"Minimum value in the embedding: {min_value}\")\n"
   ]
  },
  {
   "cell_type": "code",
   "execution_count": 10,
   "id": "e89ae486-5035-4b20-8806-b794c3bfc25a",
   "metadata": {},
   "outputs": [
    {
     "name": "stdout",
     "output_type": "stream",
     "text": [
      "1.0\n"
     ]
    }
   ],
   "source": [
    "import numpy as np\n",
    "print(np.linalg.norm(query_embedding))"
   ]
  },
  {
   "cell_type": "code",
   "execution_count": 12,
   "id": "ac4da196-b4a8-4873-9240-14b5fe4bd040",
   "metadata": {},
   "outputs": [
    {
     "name": "stdout",
     "output_type": "stream",
     "text": [
      "Cosine similarity with itself: 1.0000000000000002\n"
     ]
    }
   ],
   "source": [
    "cos_sim = query_embedding.dot(query_embedding)\n",
    "print(\"Cosine similarity with itself:\", cos_sim)"
   ]
  },
  {
   "cell_type": "code",
   "execution_count": 13,
   "id": "d8cc11fa-8890-4ecc-b686-9223935089a3",
   "metadata": {},
   "outputs": [],
   "source": [
    "doc = 'Can I still join the course after the start date?'\n",
    "d_vec = np.array(next(embed_model.embed([doc])))"
   ]
  },
  {
   "cell_type": "code",
   "execution_count": 15,
   "id": "0b71f4e8-8d69-4028-ab29-264ae6865f1b",
   "metadata": {},
   "outputs": [
    {
     "name": "stdout",
     "output_type": "stream",
     "text": [
      "Cosine similarity between query and document: 0.9009\n"
     ]
    }
   ],
   "source": [
    "cos_sim = np.dot(query_embedding, d_vec)\n",
    "\n",
    "print(f\"Cosine similarity between query and document: {cos_sim:.4f}\")"
   ]
  },
  {
   "cell_type": "code",
   "execution_count": 16,
   "id": "f2332358-762a-4c1a-91c7-b47e5b7e5678",
   "metadata": {},
   "outputs": [],
   "source": [
    "documents = [{'text': \"Yes, even if you don't register, you're still eligible to submit the homeworks.\\nBe aware, however, that there will be deadlines for turning in the final projects. So don't leave everything for the last minute.\",\n",
    "  'section': 'General course-related questions',\n",
    "  'question': 'Course - Can I still join the course after the start date?',\n",
    "  'course': 'data-engineering-zoomcamp'},\n",
    " {'text': 'Yes, we will keep all the materials after the course finishes, so you can follow the course at your own pace after it finishes.\\nYou can also continue looking at the homeworks and continue preparing for the next cohort. I guess you can also start working on your final capstone project.',\n",
    "  'section': 'General course-related questions',\n",
    "  'question': 'Course - Can I follow the course after it finishes?',\n",
    "  'course': 'data-engineering-zoomcamp'},\n",
    " {'text': \"The purpose of this document is to capture frequently asked technical questions\\nThe exact day and hour of the course will be 15th Jan 2024 at 17h00. The course will start with the first  “Office Hours'' live.1\\nSubscribe to course public Google Calendar (it works from Desktop only).\\nRegister before the course starts using this link.\\nJoin the course Telegram channel with announcements.\\nDon’t forget to register in DataTalks.Club's Slack and join the channel.\",\n",
    "  'section': 'General course-related questions',\n",
    "  'question': 'Course - When will the course start?',\n",
    "  'course': 'data-engineering-zoomcamp'},\n",
    " {'text': 'You can start by installing and setting up all the dependencies and requirements:\\nGoogle cloud account\\nGoogle Cloud SDK\\nPython 3 (installed with Anaconda)\\nTerraform\\nGit\\nLook over the prerequisites and syllabus to see if you are comfortable with these subjects.',\n",
    "  'section': 'General course-related questions',\n",
    "  'question': 'Course - What can I do before the course starts?',\n",
    "  'course': 'data-engineering-zoomcamp'},\n",
    " {'text': 'Star the repo! Share it with friends if you find it useful ❣️\\nCreate a PR if you see you can improve the text or the structure of the repository.',\n",
    "  'section': 'General course-related questions',\n",
    "  'question': 'How can we contribute to the course?',\n",
    "  'course': 'data-engineering-zoomcamp'}]"
   ]
  },
  {
   "cell_type": "code",
   "execution_count": 17,
   "id": "4f6ee4ec-7e75-4839-b3ee-58c81b46ffa2",
   "metadata": {},
   "outputs": [],
   "source": [
    "doc_texts = [doc[\"text\"] for doc in documents]\n",
    "doc_embeddings = list(embed_model.embed(doc_texts))"
   ]
  },
  {
   "cell_type": "code",
   "execution_count": 19,
   "id": "ea0f34f6-19b2-4cb5-ae15-7f7e74fd613c",
   "metadata": {},
   "outputs": [
    {
     "name": "stdout",
     "output_type": "stream",
     "text": [
      "Most similar document index: 1\n"
     ]
    }
   ],
   "source": [
    "V = np.vstack(doc_embeddings)  # Shape: (5, 512)\n",
    "similarities = V.dot(query_embedding)  # Shape: (5,)\n",
    "most_similar_idx = int(np.argmax(similarities))\n",
    "print(\"Most similar document index:\", most_similar_idx)"
   ]
  },
  {
   "cell_type": "code",
   "execution_count": 24,
   "id": "42b40a9a-d8b9-4f42-9181-09c2244e56c1",
   "metadata": {},
   "outputs": [],
   "source": [
    "full_texts = [doc[\"question\"] + \" \" + doc[\"text\"] for doc in documents]"
   ]
  },
  {
   "cell_type": "code",
   "execution_count": 25,
   "id": "8d1339bb-cc04-42cf-8582-658eaffdf860",
   "metadata": {},
   "outputs": [
    {
     "name": "stdout",
     "output_type": "stream",
     "text": [
      "Most similar document index (Q4): 0\n"
     ]
    }
   ],
   "source": [
    "full_embeddings = list(embed_model.embed(full_texts))\n",
    "V = np.vstack(full_embeddings)  # Shape: (5, 512)\n",
    "\n",
    "# Compute cosine similarity\n",
    "similarities = V.dot(query_embedding)\n",
    "\n",
    "# Find the most similar\n",
    "most_similar_idx = int(np.argmax(similarities))\n",
    "print(\"Most similar document index (Q4):\", most_similar_idx)"
   ]
  },
  {
   "cell_type": "code",
   "execution_count": 27,
   "id": "abe61e26-7c34-4e2c-8953-aafadebfa6e4",
   "metadata": {},
   "outputs": [
    {
     "name": "stdout",
     "output_type": "stream",
     "text": [
      "Embedding shape: (384,)\n"
     ]
    }
   ],
   "source": [
    "from fastembed.embedding import TextEmbedding\n",
    "import numpy as np\n",
    "\n",
    "# Initialize the smaller model\n",
    "embed_model = TextEmbedding(model_name=\"BAAI/bge-small-en\")\n",
    "\n",
    "# Embed a query\n",
    "query = \"I just discovered the course. Can I join now?\"\n",
    "query_vec = np.array(next(embed_model.embed([query])))\n",
    "\n",
    "# Check vector size\n",
    "print(\"Embedding shape:\", query_vec.shape)  # Should be (384,)\n"
   ]
  },
  {
   "cell_type": "code",
   "execution_count": null,
   "id": "2cba4bc6-87f9-4ffc-86a7-8de819927bab",
   "metadata": {},
   "outputs": [],
   "source": [
    "import requests\n",
    "import numpy as np\n",
    "from qdrant_client import QdrantClient\n",
    "from qdrant_client.models import VectorParams, Distance, PointStruct\n",
    "from fastembed import TextEmbedding\n",
    "\n",
    "# Load and filter documents\n",
    "docs_url = 'https://github.com/alexeygrigorev/llm-rag-workshop/raw/main/notebooks/documents.json'\n",
    "documents_raw = requests.get(docs_url).json()\n",
    "\n",
    "documents = []\n",
    "for course in documents_raw:\n",
    "    if course['course'] == 'machine-learning-zoomcamp':\n",
    "        for doc in course['documents']:\n",
    "            doc['course'] = course['course']\n",
    "            documents.append(doc)\n",
    "\n",
    "# Prepare full text (question + text)\n",
    "full_texts = [doc[\"question\"] + \" \" + doc[\"text\"] for doc in documents]\n",
    "\n",
    "# Use BAAI/bge-small-en (dim = 384)\n",
    "embed_model = TextEmbedding(model_name=\"BAAI/bge-small-en\")\n",
    "embeddings = list(embed_model.embed(full_texts))\n",
    "\n",
    "# Init Qdrant in-memory\n",
    "client = QdrantClient(host=\"localhost\", port=6333)\n",
    "collection_name = \"ml_faq\"\n",
    "client.recreate_collection(\n",
    "    collection_name=collection_name,\n",
    "    vectors_config=VectorParams(size=384, distance=Distance.COSINE)\n",
    ")\n",
    "\n",
    "# Insert documents into Qdrant\n",
    "points = [\n",
    "    PointStruct(id=i, vector=vec, payload={\"text\": text})\n",
    "    for i, (vec, text) in enumerate(zip(embeddings, full_texts))\n",
    "]\n",
    "client.upsert(collection_name=collection_name, points=points)\n",
    "\n",
    "# Query from Q1\n",
    "query = \"I just discovered the course. Can I join now?\"\n",
    "query_vec = np.array(next(embed_model.embed([query])))\n",
    "\n",
    "# Perform search\n",
    "results = client.search(\n",
    "    collection_name=collection_name,\n",
    "    query_vector=query_vec,\n",
    "    limit=1,\n",
    "    with_payload=True\n",
    ")\n",
    "\n",
    "# Show top score\n",
    "top_score = results[0].score\n",
    "print(f\"Top similarity score: {top_score:.2f}\")\n",
    "\n"
   ]
  },
  {
   "cell_type": "code",
   "execution_count": null,
   "id": "d6ff2461-92c9-4f4c-badd-4993d576b736",
   "metadata": {},
   "outputs": [],
   "source": []
  }
 ],
 "metadata": {
  "kernelspec": {
   "display_name": "Python 3 (ipykernel)",
   "language": "python",
   "name": "python3"
  },
  "language_info": {
   "codemirror_mode": {
    "name": "ipython",
    "version": 3
   },
   "file_extension": ".py",
   "mimetype": "text/x-python",
   "name": "python",
   "nbconvert_exporter": "python",
   "pygments_lexer": "ipython3",
   "version": "3.12.1"
  }
 },
 "nbformat": 4,
 "nbformat_minor": 5
}
